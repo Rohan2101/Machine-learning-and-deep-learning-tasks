{
 "cells": [
  {
   "cell_type": "markdown",
   "metadata": {},
   "source": [
    "# Question 1"
   ]
  },
  {
   "cell_type": "markdown",
   "metadata": {},
   "source": [
    "1) Implement a KNN regressor using the scikit-learn conventations"
   ]
  },
  {
   "cell_type": "code",
   "execution_count": 6,
   "metadata": {},
   "outputs": [],
   "source": [
    "from sklearn.datasets import load_diabetes,fetch_california_housing\n",
    "from sklearn.base import BaseEstimator\n",
    "from scipy.spatial import KDTree\n",
    "class KnnRegressor(BaseEstimator):\n",
    "\n",
    "    def __init__(self, k):\n",
    "        self.k = k\n",
    "\n",
    "    def fit(self, x, y):\n",
    "        self.y_train_ = y\n",
    "        self.x_train_kdtree_ = KDTree(x)\n",
    "        return self\n",
    "\n",
    "    def predict(self, x):\n",
    "        _, neighbours = self.x_train_kdtree_.query(x, k=self.k)\n",
    "        neighbours = neighbours.reshape(len(x), self.k)\n",
    "        neighbour_labels = self.y_train_[neighbours]\n",
    "        m = np.mean(neighbour_labels, axis=1)\n",
    "        return m"
   ]
  },
  {
   "cell_type": "markdown",
   "metadata": {},
   "source": [
    "To test your implementation, load the datasets diabetes and california housing through\n",
    "the functions load diabetes and fetch california housing, both of which are available\n",
    "in the module sklearn.datasets."
   ]
  },
  {
   "cell_type": "code",
   "execution_count": 7,
   "metadata": {},
   "outputs": [],
   "source": [
    "diabetes = load_diabetes()\n",
    "california = fetch_california_housing()"
   ]
  },
  {
   "cell_type": "code",
   "execution_count": 8,
   "metadata": {},
   "outputs": [],
   "source": [
    "import numpy as np\n",
    "\n",
    "def train_test_split(x, y, train_size=0.6, random_state=None):\n",
    "    RNG = np.random.default_rng(random_state)\n",
    "    N = len(x)\n",
    "    N_train = round(N*train_size)\n",
    "    idx_train = RNG.choice(N, N_train, replace=False)\n",
    "    idx_test = np.setdiff1d(np.arange(N), idx_train)\n",
    "    RNG.shuffle(idx_test)\n",
    "    return x[idx_train], x[idx_test], y[idx_train], y[idx_test]\n",
    "\n",
    "x_train, x_test, y_train, y_test = train_test_split(diabetes.data, diabetes.target, train_size=0.6,shuffle=True)\n",
    "x_train_cali, x_test_cali, y_train_cali, y_test_cali = train_test_split(california.data, california.target, train_size=0.6,shuffle=True)"
   ]
  },
  {
   "cell_type": "code",
   "execution_count": 16,
   "metadata": {},
   "outputs": [
    {
     "data": {
      "text/plain": [
       "(2352.791614255766, 4318.048336472066)"
      ]
     },
     "execution_count": 16,
     "metadata": {},
     "output_type": "execute_result"
    }
   ],
   "source": [
    "def error_rate(y, y_hat):\n",
    "    n = len(y)\n",
    "    sum_of_errors = sum((y-y_hat)**2)\n",
    "    return sum_of_errors/n\n",
    "#finding error rate for diabtes data\n",
    "knn = KnnRegressor(k=3)\n",
    "knn.fit(x_train, y_train)\n",
    "y_hat_train = knn.predict(x_train)\n",
    "y_hat_test = knn.predict(x_test)\n",
    "error_rate(y_train, y_hat_train), error_rate(y_test, y_hat_test)"
   ]
  },
  {
   "cell_type": "code",
   "execution_count": 17,
   "metadata": {},
   "outputs": [
    {
     "data": {
      "text/plain": [
       "(0.5716849988297835, 1.2571807930454773)"
      ]
     },
     "execution_count": 17,
     "metadata": {},
     "output_type": "execute_result"
    }
   ],
   "source": [
    "#finding error rate for california data data\n",
    "knn = KnnRegressor(k=3)\n",
    "knn.fit(x_train_cali, y_train_cali)\n",
    "y_hat_train_cal = knn.predict(x_train_cali)\n",
    "y_hat_test_cal = knn.predict(x_test_cali)\n",
    "error_rate(y_train_cali, y_hat_train_cal), error_rate(y_test_cali, y_hat_test_cal)"
   ]
  },
  {
   "cell_type": "code",
   "execution_count": 19,
   "metadata": {},
   "outputs": [
    {
     "data": {
      "text/plain": [
       "(0.5716849988297835, 1.2571807930454773)"
      ]
     },
     "execution_count": 19,
     "metadata": {},
     "output_type": "execute_result"
    }
   ],
   "source": [
    "from sklearn.neighbors import KNeighborsRegressor\n",
    "knn = KNeighborsRegressor(3)\n",
    "knn.fit(x_train_cali, y_train_cali)\n",
    "y_hat_train_cal = knn.predict(x_train_cali)\n",
    "y_hat_test_cal = knn.predict(x_test_cali)\n",
    "error_rate(y_train_cali, y_hat_train_cal), error_rate(y_test_cali, y_hat_test_cal)"
   ]
  },
  {
   "cell_type": "markdown",
   "metadata": {},
   "source": [
    "# Question 2: L - Fold Cross Validation"
   ]
  },
  {
   "cell_type": "code",
   "execution_count": 20,
   "metadata": {},
   "outputs": [],
   "source": [
    "class LFold:\n",
    "    def __init__(self, n_splits,shuffle=None): \n",
    "        self.n_splits = n_splits\n",
    "        self.shuffle = shuffle\n",
    "    def get_n_splits(self, x=None, y=None, groups=None):\n",
    "        return self.n_splits\n",
    "    def split(self, x, y=None, groups=None):\n",
    "        n_samples = np.shape(x)[0]\n",
    "        indices = np.arange(n_samples)\n",
    "        if self.shuffle:\n",
    "            indices = np.random.permutation(indices)\n",
    "        \n",
    "        fold_size = n_samples // self.n_splits\n",
    "        for i in range(self.n_splits):\n",
    "            start = i * fold_size\n",
    "            end = (i + 1) * fold_size\n",
    "            test_idx = indices[start:end]\n",
    "            train_idx = np.concatenate([indices[:start], indices[end:]])\n",
    "            yield train_idx, test_idx"
   ]
  },
  {
   "cell_type": "code",
   "execution_count": 56,
   "metadata": {
    "scrolled": true
   },
   "outputs": [
    {
     "name": "stdout",
     "output_type": "stream",
     "text": [
      "[ 4  5  6  7  8  9 10 11 12 13 14 15 16 17 18 19 20 21] [0 1 2 3]\n",
      "[ 0  1  2  3  8  9 10 11 12 13 14 15 16 17 18 19 20 21] [4 5 6 7]\n",
      "[ 0  1  2  3  4  5  6  7 12 13 14 15 16 17 18 19 20 21] [ 8  9 10 11]\n",
      "[ 0  1  2  3  4  5  6  7  8  9 10 11 16 17 18 19 20 21] [12 13 14 15]\n",
      "[ 0  1  2  3  4  5  6  7  8  9 10 11 12 13 14 15 20 21] [16 17 18 19]\n"
     ]
    }
   ],
   "source": [
    "for train_idx, test_idx in LFold(5,shuffle=False,random_state=101).split(list(range(22))):\n",
    "    print(train_idx, test_idx)"
   ]
  },
  {
   "cell_type": "code",
   "execution_count": 13,
   "metadata": {},
   "outputs": [
    {
     "name": "stdout",
     "output_type": "stream",
     "text": [
      "Best K for dataset 1: 14\n",
      "Mean Test MSE for best K: 3202.4174628942483\n",
      "Standard Deviation of Test MSE for best K: 637.5819855519782\n"
     ]
    }
   ],
   "source": [
    "from sklearn.neighbors import KNeighborsRegressor\n",
    "from sklearn.metrics import mean_squared_error\n",
    "import numpy as np\n",
    "\n",
    "def knn_parameter_search(X, y, k_range, n_splits=5):  #defining number of splits\n",
    "    results = []  #intializing llst\n",
    "    for k in k_range:\n",
    "        mse_train = [] #intializing llst\n",
    "        mse_test = [] #intializing llst \n",
    "        lfold = LFold(n_splits=n_splits, shuffle=True)\n",
    "        for train_idx, test_idx in lfold.split(X, y):\n",
    "            X_train, X_test = X[train_idx], X[test_idx]\n",
    "            y_train, y_test = y[train_idx], y[test_idx]\n",
    "            knn = KnnRegressor(k)    #intializing model\n",
    "            knn.fit(X_train, y_train)  #fitting model\n",
    "            y_train_pred = knn.predict(X_train)  #making predictions\n",
    "            y_test_pred = knn.predict(X_test)   #making predictions\n",
    "            mse_train.append(mean_squared_error(y_train, y_train_pred))  # calculating the respective mse\n",
    "            mse_test.append(mean_squared_error(y_test, y_test_pred))\n",
    "        mean_mse_train = np.mean(mse_train)  #calculating mean mse for each k\n",
    "        std_mse_train = np.std(mse_train)\n",
    "        mean_mse_test = np.mean(mse_test)\n",
    "        std_mse_test = np.std(mse_test)\n",
    "        results.append({\n",
    "            'k': k,\n",
    "            'mean_mse_train': mean_mse_train,\n",
    "            'std_mse_train': std_mse_train,\n",
    "            'mean_mse_test': mean_mse_test,\n",
    "            'std_mse_test': std_mse_test,\n",
    "            \"n_splits\" : n_splits\n",
    "        })\n",
    "    best_k_result = min(results, key=lambda x: x['mean_mse_test'])   #getting the best mse with the minimum mse error on testing data\n",
    "    return results, best_k_result\n",
    "\n",
    "k_range = range(1, 51)\n",
    "results1, best_k1 = knn_parameter_search(california.data, california.target, k_range, n_splits=5)\n",
    "print(\"Best K for dataset 1:\", best_k1['k'])\n",
    "print(\"Mean Test MSE for best K:\", best_k1['mean_mse_test'])\n",
    "print(\"Standard Deviation of Test MSE for best K:\", best_k1['std_mse_test'])\n",
    "\n",
    "results2, best_k2 = knn_parameter_search(california.data, california.target, k_range, n_splits=5)\n",
    "print(\"Best K for california:\", best_k2['k'])\n",
    "print(\"Mean Test MSE for best K:\", best_k2['mean_mse_test'])\n",
    "print(\"Standard Deviation of Test MSE for best K:\", best_k2['std_mse_test'])"
   ]
  },
  {
   "cell_type": "markdown",
   "metadata": {},
   "source": [
    "The above code uses the self defined code and takes longer to run so another code has been added that using skikitlearn functions which are faster to run"
   ]
  },
  {
   "cell_type": "code",
   "execution_count": 25,
   "metadata": {},
   "outputs": [
    {
     "name": "stdout",
     "output_type": "stream",
     "text": [
      "Best K for diabetes: 16\n",
      "Mean Test MSE for best K: 3229.696232703173\n",
      "Standard Deviation of Test MSE for best K: 444.0201696115252\n",
      "Best K for california: 7\n",
      "Mean Test MSE for best K: 1.1132086274557107\n",
      "Standard Deviation of Test MSE for best K: 0.01825456048460864\n"
     ]
    }
   ],
   "source": [
    "from sklearn.neighbors import KNeighborsRegressor\n",
    "from sklearn.metrics import mean_squared_error\n",
    "from sklearn.model_selection import KFold\n",
    "import numpy as np\n",
    "\n",
    "def knn_parameter_search(X, y, k_range, n_splits=5, random_state=None):\n",
    "    results = []\n",
    "    for k in k_range:\n",
    "        mse_train = []\n",
    "        mse_test = []\n",
    "        lfold = KFold(n_splits=n_splits, shuffle=True)\n",
    "        for train_idx, test_idx in lfold.split(X, y):\n",
    "            X_train, X_test = X[train_idx], X[test_idx]\n",
    "            y_train, y_test = y[train_idx], y[test_idx]\n",
    "            knn = KNeighborsRegressor(n_neighbors=k)\n",
    "            knn.fit(X_train, y_train)\n",
    "            y_train_pred = knn.predict(X_train)  #making predictions\n",
    "            y_test_pred = knn.predict(X_test)   #making predictions\n",
    "            mse_train.append(mean_squared_error(y_train, y_train_pred))  # calculating the respective mse\n",
    "            mse_test.append(mean_squared_error(y_test, y_test_pred))\n",
    "        mean_mse_train = np.mean(mse_train)  #calculating mean mse for each k\n",
    "        std_mse_train = np.std(mse_train)\n",
    "        mean_mse_test = np.mean(mse_test)\n",
    "        std_mse_test = np.std(mse_test)\n",
    "        results.append({\n",
    "            'k': k,\n",
    "            'mean_mse_train': mean_mse_train,\n",
    "            'std_mse_train': std_mse_train,\n",
    "            'mean_mse_test': mean_mse_test,\n",
    "            'std_mse_test': std_mse_test,\n",
    "            \"n_splits\" : n_splits\n",
    "        })\n",
    "    best_k_result = min(results, key=lambda x: x['mean_mse_test'])   #getting the best mse with the minimum mse error on testing data\n",
    "    return results, best_k_result\n",
    "\n",
    "k_range = range(1, 51)\n",
    "results1, best_k1 = knn_parameter_search(diabetes.data, diabetes.target, k_range, n_splits=5)\n",
    "print(\"Best K for diabetes:\", best_k1['k'])\n",
    "print(\"Mean Test MSE for best K:\", best_k1['mean_mse_test'])\n",
    "print(\"Standard Deviation of Test MSE for best K:\", best_k1['std_mse_test'])\n",
    "\n",
    "results2, best_k2 = knn_parameter_search(california.data, california.target, k_range, n_splits=5)\n",
    "print(\"Best K for california:\", best_k2['k'])\n",
    "print(\"Mean Test MSE for best K:\", best_k2['mean_mse_test'])\n",
    "print(\"Standard Deviation of Test MSE for best K:\", best_k2['std_mse_test'])"
   ]
  },
  {
   "cell_type": "code",
   "execution_count": 101,
   "metadata": {},
   "outputs": [
    {
     "data": {
      "text/plain": [
       "[{'k': 1,\n",
       "  'mean_mse_train': 0.0,\n",
       "  'std_mse_train': 0.0,\n",
       "  'mean_mse_test': 6232.713636363636,\n",
       "  'std_mse_test': 1571.6054026216589},\n",
       " {'k': 2,\n",
       "  'mean_mse_train': 1487.481638418079,\n",
       "  'std_mse_train': 118.8184009438168,\n",
       "  'mean_mse_test': 4520.620454545455,\n",
       "  'std_mse_test': 685.7386721065043},\n",
       " {'k': 3,\n",
       "  'mean_mse_train': 2033.5202762084118,\n",
       "  'std_mse_train': 101.8831684210057,\n",
       "  'mean_mse_test': 3869.246212121213,\n",
       "  'std_mse_test': 320.2069392127664},\n",
       " {'k': 4,\n",
       "  'mean_mse_train': 2289.7313559322038,\n",
       "  'std_mse_train': 74.0212535923737,\n",
       "  'mean_mse_test': 3749.154403409091,\n",
       "  'std_mse_test': 421.49362708295365},\n",
       " {'k': 5,\n",
       "  'mean_mse_train': 2433.3196836158195,\n",
       "  'std_mse_train': 108.66439831157948,\n",
       "  'mean_mse_test': 3617.356272727273,\n",
       "  'std_mse_test': 660.2071745702877},\n",
       " {'k': 6,\n",
       "  'mean_mse_train': 2571.5554613935974,\n",
       "  'std_mse_train': 87.8410786919071,\n",
       "  'mean_mse_test': 3576.022601010101,\n",
       "  'std_mse_test': 422.9847423636179},\n",
       " {'k': 7,\n",
       "  'mean_mse_train': 2634.0579153695376,\n",
       "  'std_mse_train': 201.4795439346637,\n",
       "  'mean_mse_test': 3449.206771799628,\n",
       "  'std_mse_test': 847.8748336971994},\n",
       " {'k': 8,\n",
       "  'mean_mse_train': 2682.0830861581917,\n",
       "  'std_mse_train': 69.55577788485503,\n",
       "  'mean_mse_test': 3423.274680397727,\n",
       "  'std_mse_test': 308.5105215923481},\n",
       " {'k': 9,\n",
       "  'mean_mse_train': 2774.544151496129,\n",
       "  'std_mse_train': 115.39141609636708,\n",
       "  'mean_mse_test': 3439.177918069585,\n",
       "  'std_mse_test': 455.6205639980049},\n",
       " {'k': 10,\n",
       "  'mean_mse_train': 2804.687474576271,\n",
       "  'std_mse_train': 105.08112481624488,\n",
       "  'mean_mse_test': 3419.913590909091,\n",
       "  'std_mse_test': 347.2201609011447},\n",
       " {'k': 11,\n",
       "  'mean_mse_train': 2808.940360461316,\n",
       "  'std_mse_train': 39.11374638848341,\n",
       "  'mean_mse_test': 3493.7462434259955,\n",
       "  'std_mse_test': 209.59884523612104},\n",
       " {'k': 12,\n",
       "  'mean_mse_train': 2814.1654425612055,\n",
       "  'std_mse_train': 71.54241791298318,\n",
       "  'mean_mse_test': 3308.1056660353543,\n",
       "  'std_mse_test': 97.11478607537039},\n",
       " {'k': 13,\n",
       "  'mean_mse_train': 2834.886032828536,\n",
       "  'std_mse_train': 91.2277757686463,\n",
       "  'mean_mse_test': 3334.725053792362,\n",
       "  'std_mse_test': 307.4823336133376},\n",
       " {'k': 14,\n",
       "  'mean_mse_train': 2875.797728582959,\n",
       "  'std_mse_train': 143.23354146372415,\n",
       "  'mean_mse_test': 3249.9875463821895,\n",
       "  'std_mse_test': 609.0294134330908},\n",
       " {'k': 15,\n",
       "  'mean_mse_train': 2879.1592266164466,\n",
       "  'std_mse_train': 121.85594845880088,\n",
       "  'mean_mse_test': 3231.121393939394,\n",
       "  'std_mse_test': 371.2924928437827},\n",
       " {'k': 16,\n",
       "  'mean_mse_train': 2901.9680239230224,\n",
       "  'std_mse_train': 100.73062105828589,\n",
       "  'mean_mse_test': 3266.868394886364,\n",
       "  'std_mse_test': 281.8686956823103},\n",
       " {'k': 17,\n",
       "  'mean_mse_train': 2897.323853928411,\n",
       "  'std_mse_train': 118.43189067893789,\n",
       "  'mean_mse_test': 3332.537716262976,\n",
       "  'std_mse_test': 481.07367624906107},\n",
       " {'k': 18,\n",
       "  'mean_mse_train': 2927.8147049591967,\n",
       "  'std_mse_train': 55.74497531425312,\n",
       "  'mean_mse_test': 3205.595173961841,\n",
       "  'std_mse_test': 243.92834465934476},\n",
       " {'k': 19,\n",
       "  'mean_mse_train': 2935.8520603471216,\n",
       "  'std_mse_train': 82.48931584613207,\n",
       "  'mean_mse_test': 3296.9503147821715,\n",
       "  'std_mse_test': 352.2133229731162},\n",
       " {'k': 20,\n",
       "  'mean_mse_train': 2957.748382768362,\n",
       "  'std_mse_train': 96.96067455664112,\n",
       "  'mean_mse_test': 3241.3609943181814,\n",
       "  'std_mse_test': 473.9605809167786},\n",
       " {'k': 21,\n",
       "  'mean_mse_train': 2970.162424894628,\n",
       "  'std_mse_train': 111.17614360350996,\n",
       "  'mean_mse_test': 3331.802159348588,\n",
       "  'std_mse_test': 172.42277104635227},\n",
       " {'k': 22,\n",
       "  'mean_mse_train': 2987.9835761311106,\n",
       "  'std_mse_train': 155.55647890967953,\n",
       "  'mean_mse_test': 3276.1895144628097,\n",
       "  'std_mse_test': 474.80038409057124},\n",
       " {'k': 23,\n",
       "  'mean_mse_train': 3006.393266262963,\n",
       "  'std_mse_train': 50.476999528265814,\n",
       "  'mean_mse_test': 3308.600850661625,\n",
       "  'std_mse_test': 342.241556696924},\n",
       " {'k': 24,\n",
       "  'mean_mse_train': 3019.6202497253607,\n",
       "  'std_mse_train': 63.662462586414335,\n",
       "  'mean_mse_test': 3267.48948074495,\n",
       "  'std_mse_test': 261.05296869267715},\n",
       " {'k': 25,\n",
       "  'mean_mse_train': 3039.667879774011,\n",
       "  'std_mse_train': 69.24950261928967,\n",
       "  'mean_mse_test': 3314.2272836363636,\n",
       "  'std_mse_test': 334.13644469619794},\n",
       " {'k': 26,\n",
       "  'mean_mse_train': 3051.2012837227962,\n",
       "  'std_mse_train': 48.94762389571196,\n",
       "  'mean_mse_test': 3294.865092119419,\n",
       "  'std_mse_test': 130.15863041302066},\n",
       " {'k': 27,\n",
       "  'mean_mse_train': 3063.1803422380317,\n",
       "  'std_mse_train': 122.78993352944406,\n",
       "  'mean_mse_test': 3324.754489337823,\n",
       "  'std_mse_test': 658.3671887451478},\n",
       " {'k': 28,\n",
       "  'mean_mse_train': 3084.516768275107,\n",
       "  'std_mse_train': 64.49581221945805,\n",
       "  'mean_mse_test': 3350.3824762291274,\n",
       "  'std_mse_test': 332.46334253806305},\n",
       " {'k': 29,\n",
       "  'mean_mse_train': 3104.3133886884725,\n",
       "  'std_mse_train': 119.884775786941,\n",
       "  'mean_mse_test': 3282.1769511404173,\n",
       "  'std_mse_test': 506.80333144464646},\n",
       " {'k': 30,\n",
       "  'mean_mse_train': 3102.937148148148,\n",
       "  'std_mse_train': 155.75507597771207,\n",
       "  'mean_mse_test': 3414.457707070707,\n",
       "  'std_mse_test': 473.48557322616824},\n",
       " {'k': 31,\n",
       "  'mean_mse_train': 3147.448772171173,\n",
       "  'std_mse_train': 117.7468278664487,\n",
       "  'mean_mse_test': 3300.8287437328545,\n",
       "  'std_mse_test': 415.3932015161917},\n",
       " {'k': 32,\n",
       "  'mean_mse_train': 3123.3057341322383,\n",
       "  'std_mse_train': 114.70301907462384,\n",
       "  'mean_mse_test': 3412.5051513671874,\n",
       "  'std_mse_test': 426.27442035624205},\n",
       " {'k': 33,\n",
       "  'mean_mse_train': 3156.1811338863727,\n",
       "  'std_mse_train': 99.74944528689748,\n",
       "  'mean_mse_test': 3307.926183320812,\n",
       "  'std_mse_test': 391.5557867879551},\n",
       " {'k': 34,\n",
       "  'mean_mse_train': 3151.613961546732,\n",
       "  'std_mse_train': 74.62556908959523,\n",
       "  'mean_mse_test': 3373.730567788613,\n",
       "  'std_mse_test': 325.60215102927907},\n",
       " {'k': 35,\n",
       "  'mean_mse_train': 3172.7007014873743,\n",
       "  'std_mse_train': 79.57077184809917,\n",
       "  'mean_mse_test': 3329.9352949907234,\n",
       "  'std_mse_test': 144.62148667597236},\n",
       " {'k': 36,\n",
       "  'mean_mse_train': 3177.8196942351956,\n",
       "  'std_mse_train': 121.83013064824502,\n",
       "  'mean_mse_test': 3326.8840049803594,\n",
       "  'std_mse_test': 337.04962732223044},\n",
       " {'k': 37,\n",
       "  'mean_mse_train': 3159.276539847222,\n",
       "  'std_mse_train': 64.9902799596884,\n",
       "  'mean_mse_test': 3442.237059233681,\n",
       "  'std_mse_test': 163.97157364118144},\n",
       " {'k': 38,\n",
       "  'mean_mse_train': 3176.6407073102027,\n",
       "  'std_mse_train': 93.71837055396931,\n",
       "  'mean_mse_test': 3325.4528944220597,\n",
       "  'std_mse_test': 285.35638984812863},\n",
       " {'k': 39,\n",
       "  'mean_mse_train': 3211.328494485861,\n",
       "  'std_mse_train': 92.52731620660998,\n",
       "  'mean_mse_test': 3303.6908747235675,\n",
       "  'std_mse_test': 370.9683378175694},\n",
       " {'k': 40,\n",
       "  'mean_mse_train': 3215.5397814265534,\n",
       "  'std_mse_train': 95.89872684307036,\n",
       "  'mean_mse_test': 3356.7135738636366,\n",
       "  'std_mse_test': 485.6716534838466},\n",
       " {'k': 41,\n",
       "  'mean_mse_train': 3217.318852781335,\n",
       "  'std_mse_train': 102.7775575024354,\n",
       "  'mean_mse_test': 3422.160464550322,\n",
       "  'std_mse_test': 440.3462459208854},\n",
       " {'k': 42,\n",
       "  'mean_mse_train': 3221.492000397146,\n",
       "  'std_mse_train': 50.36739392264093,\n",
       "  'mean_mse_test': 3390.7989344980415,\n",
       "  'std_mse_test': 214.6241067703686},\n",
       " {'k': 43,\n",
       "  'mean_mse_train': 3222.483215541765,\n",
       "  'std_mse_train': 13.797375232662716,\n",
       "  'mean_mse_test': 3445.191125424062,\n",
       "  'std_mse_test': 220.67725698142456},\n",
       " {'k': 44,\n",
       "  'mean_mse_train': 3235.8219259233315,\n",
       "  'std_mse_train': 60.147828287650306,\n",
       "  'mean_mse_test': 3423.327735255447,\n",
       "  'std_mse_test': 253.40213740344345},\n",
       " {'k': 45,\n",
       "  'mean_mse_train': 3249.3443261491248,\n",
       "  'std_mse_train': 126.6785072322872,\n",
       "  'mean_mse_test': 3323.6813187429857,\n",
       "  'std_mse_test': 410.29253939510284},\n",
       " {'k': 46,\n",
       "  'mean_mse_train': 3233.322392212148,\n",
       "  'std_mse_train': 83.53409869369561,\n",
       "  'mean_mse_test': 3451.6142893968035,\n",
       "  'std_mse_test': 472.3176294822649},\n",
       " {'k': 47,\n",
       "  'mean_mse_train': 3238.7257736072,\n",
       "  'std_mse_train': 76.16441827010412,\n",
       "  'mean_mse_test': 3391.422548253015,\n",
       "  'std_mse_test': 432.9050542039892},\n",
       " {'k': 48,\n",
       "  'mean_mse_train': 3237.7549560087095,\n",
       "  'std_mse_train': 69.84597020711524,\n",
       "  'mean_mse_test': 3385.387606534091,\n",
       "  'std_mse_test': 205.16244899382767},\n",
       " {'k': 49,\n",
       "  'mean_mse_train': 3253.9323191608014,\n",
       "  'std_mse_train': 35.56006103705857,\n",
       "  'mean_mse_test': 3407.3489568740297,\n",
       "  'std_mse_test': 351.7246460215051},\n",
       " {'k': 50,\n",
       "  'mean_mse_train': 3246.6699943502826,\n",
       "  'std_mse_train': 127.51350229110584,\n",
       "  'mean_mse_test': 3377.5057209090905,\n",
       "  'std_mse_test': 607.5373885792384}]"
      ]
     },
     "execution_count": 101,
     "metadata": {},
     "output_type": "execute_result"
    }
   ],
   "source": [
    "results1"
   ]
  },
  {
   "cell_type": "markdown",
   "metadata": {},
   "source": [
    "The effects of parameter K:\n",
    "1. Underfitting: When the value of K is really large then the model becomes less flexible and tends to underfit to the data. This is seen when the mean test error is high because the model's perdictions are overly smooth and it fails to capture locak patterns in the data. \n",
    "2. Overfitting: When the value of K is very small like 1,2,3 then the model becomes highly sentitive to noise and individual data points which leads to overfitting. This is due to the fact that the model fits the training data too closely resulting in poor generalization to new data. This is evident as the mean test error starts increasing. "
   ]
  },
  {
   "cell_type": "markdown",
   "metadata": {},
   "source": [
    "Effects of the parameter L:\n",
    "1. Low L: When the value of number of folds is small there is less variability in the cross validation procedure. This can reslt in a more stable estimate of the model performance but may have high bias. The error bars which show the standard error of the mean, are narrower which indicates lower uncertainty.\n",
    "2. High L: With a larger number of folds there is more variance in the cross-validation procedure. This can lead to wider error bars indicating higher uncertainity in the estimated errors. However it provides a more accurate estimate of the model's generalization performance. "
   ]
  },
  {
   "cell_type": "code",
   "execution_count": 26,
   "metadata": {},
   "outputs": [],
   "source": [
    "import matplotlib.pyplot as plt\n",
    "def plot_knn_results(results,l):\n",
    "    plt.figure(figsize=(16, 8))\n",
    "    for result in results:\n",
    "        k_values = result['k']\n",
    "        mean_mse_train = result['mean_mse_train']\n",
    "        mean_mse_test = result['mean_mse_test']\n",
    "        s = result['std_mse_test']\n",
    "        ste = [1.96 * s / (l ** 0.5)]\n",
    "        s1 = result['std_mse_train']\n",
    "        ste1 = [1.96 * s1 / (l ** 0.5)]\n",
    "        plt.errorbar(\n",
    "                    k_values, \n",
    "                    mean_mse_train, \n",
    "                    yerr=ste1, \n",
    "                    marker='o',\n",
    "                    ecolor = 'Red',mfc='red',\n",
    "         mec='green')\n",
    "        plt.errorbar(\n",
    "                    k_values, \n",
    "                    mean_mse_test, \n",
    "                    yerr=ste, \n",
    "                    marker='o',\n",
    "                    ecolor = 'black',mfc='blue',\n",
    "         mec='orange')\n",
    "    plt.title(f'Mean Training and Test Errors')\n",
    "    plt.xlabel('K Value')\n",
    "    plt.ylabel('Mean Squared Error')\n",
    "    plt.legend()\n",
    "    plt.grid(True)\n",
    "    plt.show()"
   ]
  },
  {
   "cell_type": "code",
   "execution_count": 34,
   "metadata": {},
   "outputs": [
    {
     "name": "stderr",
     "output_type": "stream",
     "text": [
      "No handles with labels found to put in legend.\n"
     ]
    },
    {
     "data": {
      "image/png": "[encoded data removed]",
      "text/plain": [
       "<Figure size 720x432 with 1 Axes>"
      ]
     },
     "metadata": {
      "needs_background": "light"
     },
     "output_type": "display_data"
    },
    {
     "name": "stderr",
     "output_type": "stream",
     "text": [
      "No handles with labels found to put in legend.\n"
     ]
    },
    {
     "data": {
      "image/png": "[encoded data removed]",
      "text/plain": [
       "<Figure size 720x432 with 1 Axes>"
      ]
     },
     "metadata": {
      "needs_background": "light"
     },
     "output_type": "display_data"
    },
    {
     "name": "stderr",
     "output_type": "stream",
     "text": [
      "No handles with labels found to put in legend.\n"
     ]
    },
    {
     "data": {
      "image/png": "[encoded data removed]",
      "text/plain": [
       "<Figure size 720x432 with 1 Axes>"
      ]
     },
     "metadata": {
      "needs_background": "light"
     },
     "output_type": "display_data"
    }
   ],
   "source": [
    "l_values = [5,10,15]\n",
    "for l in l_values:\n",
    "    results1, best_k1 = knn_parameter_search(diabetes.data, diabetes.target, k_range, n_splits=l)\n",
    "    plot_knn_results(results1, dataset_name=\"diabetes data\", l=l)"
   ]
  },
  {
   "cell_type": "code",
   "execution_count": 46,
   "metadata": {},
   "outputs": [
    {
     "name": "stderr",
     "output_type": "stream",
     "text": [
      "No handles with labels found to put in legend.\n"
     ]
    },
    {
     "data": {
      "image/png": "[encoded data removed]",
      "text/plain": [
       "<Figure size 720x432 with 1 Axes>"
      ]
     },
     "metadata": {
      "needs_background": "light"
     },
     "output_type": "display_data"
    },
    {
     "name": "stderr",
     "output_type": "stream",
     "text": [
      "No handles with labels found to put in legend.\n"
     ]
    },
    {
     "data": {
      "image/png": "[encoded data removed]",
      "text/plain": [
       "<Figure size 720x432 with 1 Axes>"
      ]
     },
     "metadata": {
      "needs_background": "light"
     },
     "output_type": "display_data"
    }
   ],
   "source": [
    "l_values = [5,10]\n",
    "for l in l_values:\n",
    "    results2, best_k2 = knn_parameter_search(california.data, california.target, k_range, n_splits=l)\n",
    "    plot_knn_results(results2, dataset_name=\"california data\", l=l)"
   ]
  },
  {
   "cell_type": "markdown",
   "metadata": {},
   "source": [
    "# Question 3 Nested CV"
   ]
  },
  {
   "cell_type": "code",
   "execution_count": 37,
   "metadata": {},
   "outputs": [],
   "source": [
    "from sklearn.base import BaseEstimator\n",
    "from sklearn.metrics import mean_squared_error\n",
    "from sklearn.model_selection import cross_val_score\n",
    "from sklearn.model_selection import KFold\n",
    "class KnnRegressorCV(BaseEstimator):\n",
    "    def __init__(self, ks=list(range(1, 21)), cv=KFold(5)):\n",
    "        self.ks = ks\n",
    "        self.cv = cv\n",
    "        self.best_k_ = None\n",
    "        self.model_ = None\n",
    "        \n",
    "    def fit(self, X, y):\n",
    "        best_score = float('-inf')\n",
    "        for ki in self.ks:\n",
    "            knn = KNeighborsRegressor(n_neighbors=ki)\n",
    "            scores = cross_val_score(knn, X, y, cv=self.cv, scoring='neg_mean_squared_error')\n",
    "            mean_score = scores.mean()\n",
    "            if mean_score > best_score:\n",
    "                best_score = mean_score\n",
    "                self.best_k_ = ki\n",
    "                \n",
    "        self.model_ = KNeighborsRegressor(n_neighbors=self.best_k_)\n",
    "        self.model_.fit(X, y)\n",
    "        return self\n",
    "    \n",
    "    def predict(self, X):\n",
    "        return self.model_.predict(X)"
   ]
  },
  {
   "cell_type": "code",
   "execution_count": 38,
   "metadata": {},
   "outputs": [],
   "source": [
    "k1 = KnnRegressorCV()"
   ]
  },
  {
   "cell_type": "code",
   "execution_count": 40,
   "metadata": {},
   "outputs": [],
   "source": [
    "X = diabetes.data\n",
    "y= diabetes.target"
   ]
  },
  {
   "cell_type": "code",
   "execution_count": 41,
   "metadata": {},
   "outputs": [
    {
     "name": "stdout",
     "output_type": "stream",
     "text": [
      "Mean squared error for outer test set: 3365.91468997087\n",
      "Mean squared error for outer test set: 3239.704055052292\n",
      "Mean squared error for outer test set: 3518.0419823232323\n",
      "Mean squared error for outer test set: 2848.7391868512113\n",
      "Mean squared error for outer test set: 3084.4355955678675\n",
      "Mean selected K value across outer cross-validation splits: 16.6\n"
     ]
    }
   ],
   "source": [
    "from sklearn.model_selection import KFold\n",
    "from sklearn.metrics import mean_squared_error\n",
    "\n",
    "outer_cv = KFold(n_splits=5)  \n",
    "selected_k_values = []\n",
    "\n",
    "for train_index, test_index in outer_cv.split(X):\n",
    "    X_train, X_test = X[train_index], X[test_index]\n",
    "    y_train, y_test = y[train_index], y[test_index]\n",
    "    knn_cv = KnnRegressorCV(ks=list(range(1, 21)), cv=LFold(5)) \n",
    "    knn_cv.fit(X_train, y_train)\n",
    "    selected_k = knn_cv.best_k_\n",
    "    selected_k_values.append(selected_k)\n",
    "    y_pred = knn_cv.predict(X_test)\n",
    "    mse = mean_squared_error(y_test, y_pred)\n",
    "    print(f\"Mean squared error for outer test set: {mse}\")\n",
    "\n",
    "mean_selected_k = sum(selected_k_values) / len(selected_k_values)\n",
    "\n",
    "print(f\"Mean selected K value across outer cross-validation splits: {mean_selected_k}\")\n"
   ]
  },
  {
   "cell_type": "code",
   "execution_count": 42,
   "metadata": {},
   "outputs": [
    {
     "data": {
      "text/plain": [
       "[18, 17, 12, 17, 19]"
      ]
     },
     "execution_count": 42,
     "metadata": {},
     "output_type": "execute_result"
    }
   ],
   "source": [
    "selected_k_values"
   ]
  },
  {
   "cell_type": "code",
   "execution_count": 43,
   "metadata": {},
   "outputs": [],
   "source": [
    "X = california.data\n",
    "y= california.target"
   ]
  },
  {
   "cell_type": "code",
   "execution_count": 44,
   "metadata": {},
   "outputs": [
    {
     "name": "stdout",
     "output_type": "stream",
     "text": [
      "Mean squared error for outer test set: 1.0985673983935011\n",
      "Mean squared error for outer test set: 1.034657332348302\n",
      "Mean squared error for outer test set: 1.4045020207720065\n",
      "Mean squared error for outer test set: 1.1875299594976432\n",
      "Mean squared error for outer test set: 1.37360032561288\n",
      "Mean selected K value across outer cross-validation splits: 9.6\n"
     ]
    }
   ],
   "source": [
    "from sklearn.model_selection import KFold\n",
    "from sklearn.metrics import mean_squared_error\n",
    "\n",
    "outer_cv = KFold(n_splits=5) \n",
    "\n",
    "selected_k_values = []\n",
    "\n",
    "for train_index, test_index in outer_cv.split(X):\n",
    "    X_train, X_test = X[train_index], X[test_index]\n",
    "    y_train, y_test = y[train_index], y[test_index]\n",
    "    knn_cv = KnnRegressorCV(ks=list(range(1, 21)), cv=LFold(5))\n",
    "    knn_cv.fit(X_train, y_train)\n",
    "    selected_k = knn_cv.best_k_\n",
    "    selected_k_values.append(selected_k)\n",
    "    y_pred = knn_cv.predict(X_test)\n",
    "    mse = mean_squared_error(y_test, y_pred)\n",
    "    print(f\"Mean squared error for outer test set: {mse}\")\n",
    "\n",
    "mean_selected_k = sum(selected_k_values) / len(selected_k_values)\n",
    "print(f\"Mean selected K value across outer cross-validation splits: {mean_selected_k}\")\n"
   ]
  },
  {
   "cell_type": "code",
   "execution_count": 45,
   "metadata": {},
   "outputs": [
    {
     "data": {
      "text/plain": [
       "[9, 10, 11, 8, 10]"
      ]
     },
     "execution_count": 45,
     "metadata": {},
     "output_type": "execute_result"
    }
   ],
   "source": [
    "selected_k_values"
   ]
  },
  {
   "cell_type": "markdown",
   "metadata": {},
   "source": [
    "Factors determine whether the internal cross-validation procedure is successful in approximately selecting the best model\n",
    "1. Size and Quality of the Dataset: A larger dataset provides more reliable estimates of model performance and it becomes easier to identify the best hyperparameters. High-quality data also contributes to better model selection.\n",
    "\n",
    "2. Choice of K Range: The range of K values tested in the inner cross-validation loop is critical. If the range is too narrow or doesn't include the true optimal K the procedure may not select the best model.\n",
    "\n",
    "3. Number of Inner Folds (L in your previous questions): The number of inner cross-validation folds can impact the reliability of hyperparameter selection. Smaller values may result in more variability while larger values increase computational cost.\n",
    "\n",
    "4. Data Variability: If the dataset is highly variable it may be challenging to find a single optimal K value that works well for all data partitions.\n",
    "\n",
    "5. Model Complexity: The complexity of the underlying model (e.g., KNN with different K values) can affect the success of the procedure. Simpler models may be less sensitive to hyperparameter choices.\n",
    "\n",
    "6. Randomness: The outcome of the cross-validation procedure can have an element of randomness due to the random splitting of data into folds. Repeating the process multiple times and observing consistent results can increase confidence in the chosen K value."
   ]
  },
  {
   "cell_type": "code",
   "execution_count": null,
   "metadata": {},
   "outputs": [],
   "source": []
  }
 ],
 "metadata": {
  "kernelspec": {
   "display_name": "Python 3",
   "language": "python",
   "name": "python3"
  },
  "language_info": {
   "codemirror_mode": {
    "name": "ipython",
    "version": 3
   },
   "file_extension": ".py",
   "mimetype": "text/x-python",
   "name": "python",
   "nbconvert_exporter": "python",
   "pygments_lexer": "ipython3",
   "version": "3.8.5"
  }
 },
 "nbformat": 4,
 "nbformat_minor": 4
}
