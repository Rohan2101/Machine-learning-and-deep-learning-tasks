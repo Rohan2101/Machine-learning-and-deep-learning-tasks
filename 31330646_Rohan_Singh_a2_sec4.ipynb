{
 "cells": [
  {
   "cell_type": "code",
   "execution_count": 17,
   "metadata": {},
   "outputs": [
    {
     "name": "stdout",
     "output_type": "stream",
     "text": [
      "Portfolio 1 - Expected Value: 7500.00, Standard Deviation: 1023.17\n",
      "Portfolio 2 - Expected Value: 7500.00, Standard Deviation: 881.76\n",
      "Portfolio 3 - Expected Value: 7500.00, Standard Deviation: 872.85\n",
      "Portfolio 4 - Expected Value: 7500.00, Standard Deviation: 920.26\n"
     ]
    }
   ],
   "source": [
    "import numpy as np\n",
    "#The given values \n",
    "mean_values = np.array([100, 100, 50, 50])\n",
    "std_s = np.array([20, 22, 5, 5])\n",
    "correlation_matrix = np.array([[1.0, 0.9, 0.0, 0.0],[0.9, 1.0, -0.9, -0.9],[0.0, -0.9, 1.0, 0.5],[0.0, -0.9, 0.5, 1.0]])\n",
    "initial_investment = 100\n",
    "portfolio_weights = [np.array([0.5, 0, 0.25, 0.25]),np.array([0, 0.5, 0.5, 0]),np.array([0, 0.5, 0.25, 0.25]),np.array([0.25, 0.25, 0.25, 0.25])]\n",
    "exp_values = [] #intializing lists\n",
    "stds = [] #intializing lists\n",
    "for weights in portfolio_weights:\n",
    "    exp_value = np.dot(weights, mean_values)  #Calculating the exp values\n",
    "    exp_value *= initial_investment     #scaling the exp values\n",
    "    exp_values.append(exp_value) #storing the exp values\n",
    "for i in range(len(portfolio_weights)): #Calculating the std values\n",
    "    var = np.dot(portfolio_weights[i], np.dot(correlation_matrix * np.outer(std_s, std_s), portfolio_weights[i]))\n",
    "    std = np.sqrt(var)\n",
    "    std *= initial_investment #scaling the stds\n",
    "    stds.append(std) #storing the exp values\n",
    "for h in range(4):\n",
    "    print(f\"Portfolio {h+1} - Expected Value: {exp_values[h]:.2f}, Standard Deviation: {stds[h]:.2f}\")\n"
   ]
  },
  {
   "cell_type": "markdown",
   "metadata": {},
   "source": [
    "A conservative investor may choose a portfolio with a lower standard deviation as will represent lower risk. Portfolio 3 has the  lowest standard deviation compared to the others so it might be a preferred choice for a conservative investor. "
   ]
  },
  {
   "cell_type": "markdown",
   "metadata": {},
   "source": [
    "1. Expected Value of a Portfolio (E[P]):\n",
    "E[P] = w1 * E[X1] + w2 * E[X2] + w3 * E[X3] + w4 * E[X4]\n",
    "\n",
    "2. Standard Deviation of a Portfolio (σ[P]):\n",
    "sqrt(Portfolio Variance = ΣΣ (Weight of Asset i * Weight of Asset j * Covariance between Asset i and Asset j))"
   ]
  },
  {
   "cell_type": "markdown",
   "metadata": {},
   "source": [
    "We used the above formulas to compute the expected values and standard deviations of each portfolio which takes into account the means, stds and correlations between the assets. The mathematical background of these are as follows:\n",
    "\n",
    "1. Expected Value of a Portfolio (E[P]): We calculated the weighted sum of the expected values of the assets to determine the expected value of the portfolio. This is based on the principle that the expected value of a linear combination of random variables is equal to the linear combination of their expected values.\n",
    "\n",
    "2. Standard Deviation of a Portfolio (σ[P]): To compute the standard deviation of the portfolio we considered both the individual variances of the assets and the covariances between the assets. The portfolio's standard deviation is not simply the weighted sum of individual standard deviations due to the interdependence of assets. We used the formula for the standard deviation of a portfolio which accounts for the weights, variance and covariances of the assets."
   ]
  },
  {
   "cell_type": "code",
   "execution_count": null,
   "metadata": {},
   "outputs": [],
   "source": []
  }
 ],
 "metadata": {
  "kernelspec": {
   "display_name": "Python 3",
   "language": "python",
   "name": "python3"
  },
  "language_info": {
   "codemirror_mode": {
    "name": "ipython",
    "version": 3
   },
   "file_extension": ".py",
   "mimetype": "text/x-python",
   "name": "python",
   "nbconvert_exporter": "python",
   "pygments_lexer": "ipython3",
   "version": "3.8.5"
  }
 },
 "nbformat": 4,
 "nbformat_minor": 4
}
