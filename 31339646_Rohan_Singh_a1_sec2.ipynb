{
 "cells": [
  {
   "cell_type": "markdown",
   "metadata": {},
   "source": [
    "# Question 4"
   ]
  },
  {
   "cell_type": "code",
   "execution_count": 17,
   "metadata": {},
   "outputs": [
    {
     "name": "stdout",
     "output_type": "stream",
     "text": [
      "['blue' 'blue' 'blue' 'red']\n",
      "['apple' 'apple' 'apple' 'apple']\n"
     ]
    }
   ],
   "source": [
    "import numpy as np\n",
    "\n",
    "def fruit_experiment(num):\n",
    "    boxs = ['red', 'blue', 'yellow']\n",
    "    box_probs = [1/3, 1/3, 1/3]  \n",
    "    contents = {\n",
    "        'red': ['apple', 'apple', 'apple', 'orange', 'orange', 'orange', 'orange', 'orange'],\n",
    "        'blue': ['apple', 'apple', 'apple', 'apple', 'orange', 'orange', 'orange', 'orange'],\n",
    "        'yellow': ['apple', 'orange']\n",
    "    }\n",
    "\n",
    "    results_box = np.random.choice(boxs, size=num, p=box_probs)\n",
    "    results_fruit = [np.random.choice(contents[box]) for box in results_box]\n",
    "\n",
    "    return np.array(results_box), np.array(results_fruit)\n",
    "\n",
    "result1, result2 = fruit_experiment(4)\n",
    "result1 = np.asarray(result1)\n",
    "print(result1)\n",
    "print(result2)\n"
   ]
  },
  {
   "cell_type": "markdown",
   "metadata": {},
   "source": [
    "If A is an event that the yellow box is picked\n",
    "\n",
    "And B is the event that apple is the fruit picked\n",
    "\n",
    "To Find the probability that the fruit from yellow box if it is apple $P\\left(A|B\\right) ,$\n",
    "\n",
    "As there are 3 boxes with uniform probability for selecting each, so the probability of picking a yellow box at is \n",
    "\n",
    "$$P(A)=\\frac{1}{3}$$\n",
    "\n",
    "And as the yellow box only has one apple and one orange hence the probability of picking an apple from the yellow box is:\n",
    "\n",
    "$$P(B|A)=\\frac{1}{2}$$\n",
    "\n",
    "The probability is the sum of probability it being from yellow box and picking apple from box which is not yellow \n",
    "\n",
    "$$P(B)=\\frac{1}{2}\\cdot\\frac{1}{3}+\\frac{1}{3}\\cdot\\left(\\frac{3}{8}+\\frac{1}{2}\\right)\n",
    "\\\\\n",
    "P(B)=\\frac{1}{6}+\\frac{7}{24}\\\\\n",
    "\\\\\n",
    "\\text{And taking 24 as lcm and multiplying 4 to} \\frac{1}{6}\\\\\n",
    "P(B)=\\frac{4}{24}+\\frac{7}{24}\\\\\n",
    "\\\\\n",
    "P(B)=\\frac{11}{24}$$\n",
    "\n",
    "Then using Bayes theorm we get $$\\begin{align*}\n",
    "\\\\P(A|B)&=\\frac{P(B|A)\\cdot P(A)}{P(B)} \\\\\n",
    "&=\\frac{\\frac{1}{2}\\cdot \\frac{1}{3}}{\\frac{11}{24}}\\\\\n",
    "\\\\\n",
    "&=\\frac{\\frac{1}{6}}{\\frac{11}{24}}\\\\\n",
    "\\\\\n",
    "&=\\frac{4}{11}\n",
    "\\end{align*}$$\n",
    "\n",
    "So the probablity is  $\\frac{4}{11}$"
   ]
  },
  {
   "cell_type": "markdown",
   "metadata": {},
   "source": [
    "# Question 5"
   ]
  },
  {
   "cell_type": "code",
   "execution_count": 7,
   "metadata": {},
   "outputs": [
    {
     "name": "stdout",
     "output_type": "stream",
     "text": [
      "[8, 5, 5, 12, 5, 7, 4, 29, 14, 3]\n"
     ]
    }
   ],
   "source": [
    "import random\n",
    "import numpy as np\n",
    "import scipy.stats as stats\n",
    "\n",
    "def die_experiment(repetitions):\n",
    "    scores = []\n",
    "\n",
    "    for _ in range(repetitions):\n",
    "        X = random.randint(1, 6)           \n",
    "        score = 0\n",
    "        for a in range(X):\n",
    "            x1 = random.randint(1, 6)\n",
    "            score = score + x1\n",
    "        scores.append(score)\n",
    "\n",
    "    return scores\n",
    "\n",
    "print(die_experiment(10))"
   ]
  },
  {
   "cell_type": "code",
   "execution_count": 3,
   "metadata": {
    "scrolled": false
   },
   "outputs": [
    {
     "name": "stdout",
     "output_type": "stream",
     "text": [
      "Estimated Average Score (E[Z]): 12.27\n",
      "95% Confidence Interval: (12.14, 12.41)\n"
     ]
    }
   ],
   "source": [
    "repetitions = 10000\n",
    "scores = die_experiment(repetitions)\n",
    "\n",
    "avg = np.mean(scores)  \n",
    "\n",
    "std_error = np.std(scores) / np.sqrt(repetitions)\n",
    "\n",
    "confidence_interval = stats.norm.interval(0.95, loc=avg, scale=std_error)\n",
    "\n",
    "print(f\"Estimated Average Score (E[Z]): {avg:.2f}\")\n",
    "print(f\"95% Confidence Interval: ({confidence_interval[0]:.2f}, {confidence_interval[1]:.2f})\")\n"
   ]
  },
  {
   "cell_type": "markdown",
   "metadata": {},
   "source": [
    "Step 1: Find $E[Z|X = x]$}\n",
    "\n",
    "Let's consider a specific value of $x$ for $X$. We want to find the expected score $Z$ given that $X = x$. In this case, we have $x$ subsequent dice rolls $(Y_1, Y_2, \\ldots, Y_x)$, and we need to find the expected sum of these rolls.\n",
    "\n",
    "\\begin{align*}\n",
    "E[Z|X = x] &= E[Y_1 + Y_2 + \\ldots + Y_x|X = x] \\\\\n",
    "&= E[Y_1|X = x] + E[Y_2|X = x] + \\ldots + E[Y_x|X = x]\n",
    "\\end{align*}\n",
    "\n",
    "Each $E[Y_i|X = x]$ is simply the expected value of a single die roll, which is $(1/6)$ times the sum of the possible outcomes $(1, 2, 3, 4, 5, 6)$:\n",
    "\n",
    "\\begin{align*}\n",
    "E[Y_i|X = x] &= \\frac{1}{6} \\cdot (1 + 2 + 3 + 4 + 5 + 6) \\\\\n",
    "&= \\frac{1}{6} \\cdot 21 \\\\\n",
    "&= \\frac{7}{2}\n",
    "\\end{align*}\n",
    "\n",
    "So, for a specific value of $x$, $E[Z|X = x] = \\frac{7}{2} \\cdot x$.\n",
    "\n",
    "Now Using the Law of Total Expectation:\n",
    "\n",
    "Now, we want to find the marginal expectation $E[Z]$, which is the expected score regardless of the value of $X$. We can use the law of total expectation to find this:\n",
    "\n",
    "\\begin{align*}\n",
    "E[Z] &= E[E[Z|X]] \\\\\n",
    "&=  \\sum_{x=1}^{6} E[Z|X = x] \\cdot P(X=x)\\\\\n",
    "&= \\frac{1}{6} \\left( \\frac{7}{2} \\cdot 1 + \\frac{7}{2} \\cdot 2 + \\frac{7}{2} \\cdot 3 + \\frac{7}{2} \\cdot 4 + \\frac{7}{2} \\cdot 5 + \\frac{7}{2} \\cdot 6 \\right) \\\\\n",
    "&= \\frac{1}{6} \\cdot \\frac{7}{2} \\cdot (1 + 2 + 3 + 4 + 5 + 6) \\\\\n",
    "&= \\frac{1}{6} \\cdot (73.5) \\\\\n",
    "&=12.25\n",
    "\\end{align*}\n",
    "\n",
    "So, analytically, the expected player score $E[Z]$ is $\\frac{49}{4}$ or $12.25$.\n"
   ]
  },
  {
   "cell_type": "code",
   "execution_count": null,
   "metadata": {},
   "outputs": [],
   "source": []
  }
 ],
 "metadata": {
  "kernelspec": {
   "display_name": "Python 3",
   "language": "python",
   "name": "python3"
  },
  "language_info": {
   "codemirror_mode": {
    "name": "ipython",
    "version": 3
   },
   "file_extension": ".py",
   "mimetype": "text/x-python",
   "name": "python",
   "nbconvert_exporter": "python",
   "pygments_lexer": "ipython3",
   "version": "3.8.5"
  }
 },
 "nbformat": 4,
 "nbformat_minor": 4
}
